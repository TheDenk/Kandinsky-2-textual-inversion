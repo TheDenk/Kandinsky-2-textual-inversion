{
 "cells": [
  {
   "cell_type": "code",
   "execution_count": null,
   "id": "21b55fd6",
   "metadata": {},
   "outputs": [],
   "source": [
    "%cd .."
   ]
  },
  {
   "cell_type": "code",
   "execution_count": 2,
   "id": "5ffb7d5f",
   "metadata": {},
   "outputs": [],
   "source": [
    "import os\n",
    "os.environ['CUDA_VISIBLE_DEVICES'] = '0'\n",
    "from copy import deepcopy\n",
    "\n",
    "import torch\n",
    "import torch.nn as nn\n",
    "from matplotlib import pyplot as plt\n",
    "from omegaconf.dictconfig import DictConfig\n",
    "\n",
    "from kandinsky2 import CONFIG_2_1, Kandinsky2_1 "
   ]
  },
  {
   "cell_type": "markdown",
   "id": "b4e3c611",
   "metadata": {},
   "source": [
    "### Helper functions"
   ]
  },
  {
   "cell_type": "code",
   "execution_count": 3,
   "id": "3670d18b",
   "metadata": {},
   "outputs": [],
   "source": [
    "def show_image(image, figsize=(5, 5), cmap=None, title='', xlabel=None, ylabel=None, axis=False):\n",
    "    plt.figure(figsize=figsize)\n",
    "    plt.imshow(image, cmap=cmap)\n",
    "    plt.title(title)\n",
    "    plt.xlabel(xlabel)\n",
    "    plt.ylabel(ylabel)\n",
    "    plt.axis(axis)\n",
    "    plt.show();\n",
    "\n",
    "def show_images(images, n_rows=1, title='', figsize=(5, 5), cmap=None, xlabel=None, ylabel=None, axis=False):\n",
    "    n_cols = len(images) // n_rows\n",
    "    if n_rows == n_cols == 1:\n",
    "        show_image(images[0], title=title, figsize=figsize, cmap=cmap, xlabel=xlabel, ylabel=ylabel, axis=axis)\n",
    "    else:\n",
    "        fig, axes = plt.subplots(n_rows, n_cols, figsize=figsize)\n",
    "        fig.tight_layout(pad=0.0)\n",
    "        axes = axes.flatten()\n",
    "        for ax, img in zip(axes, images):\n",
    "            ax.imshow(img, cmap=cmap)\n",
    "            ax.set_title(title)\n",
    "            ax.set_xlabel(xlabel)\n",
    "            ax.set_ylabel(ylabel)\n",
    "            ax.axis(axis)\n",
    "        plt.show();\n",
    "        \n",
    "def create_model(unet_path, cache_root, task_type, device, use_fp16=True):\n",
    "    config = DictConfig(deepcopy(CONFIG_2_1))\n",
    "    cache_dir = os.path.join(cache_root, \"2_1\")\n",
    "\n",
    "    config[\"model_config\"][\"up\"] = False\n",
    "    config[\"model_config\"][\"use_fp16\"] = use_fp16\n",
    "    config[\"model_config\"][\"inpainting\"] = False\n",
    "    config[\"model_config\"][\"cache_text_emb\"] = False\n",
    "    config[\"model_config\"][\"use_flash_attention\"] = False\n",
    "\n",
    "    config[\"tokenizer_name\"] = os.path.join(cache_dir, \"text_encoder\")\n",
    "    config[\"text_enc_params\"][\"model_path\"] = os.path.join(cache_dir, \"text_encoder\")\n",
    "    config[\"prior\"][\"clip_mean_std_path\"] = os.path.join(cache_dir, \"ViT-L-14_stats.th\")\n",
    "    config[\"image_enc_params\"][\"ckpt_path\"] = os.path.join(cache_dir, \"movq_final.ckpt\")\n",
    "\n",
    "    model_path = os.path.join(cache_dir, \"decoder_fp16.ckpt\") if unet_path is None else unet_path\n",
    "    prior_path = os.path.join(cache_dir, \"prior_fp16.ckpt\")\n",
    "    \n",
    "    return Kandinsky2_1(config, model_path, prior_path, device, task_type=task_type)"
   ]
  },
  {
   "cell_type": "markdown",
   "id": "647aa03d",
   "metadata": {},
   "source": [
    "### Initialize default Kandinsky 2.1 model (careful with cache dir)"
   ]
  },
  {
   "cell_type": "code",
   "execution_count": 4,
   "id": "05505437",
   "metadata": {},
   "outputs": [
    {
     "name": "stdout",
     "output_type": "stream",
     "text": [
      "making attention of type 'vanilla' with 512 in_channels\n",
      "making attention of type 'vanilla' with 512 in_channels\n",
      "making attention of type 'vanilla' with 512 in_channels\n",
      "Working with z of shape (1, 4, 32, 32) = 4096 dimensions.\n"
     ]
    }
   ],
   "source": [
    "device = 'cuda'\n",
    "task_type = 'text2img'\n",
    "cache_dir = '/tmp/kandinsky2'\n",
    "\n",
    "unet_path = './finetune/output/sapsan/decoder_fp16.ckpt'\n",
    "\n",
    "model = create_model(\n",
    "    unet_path=unet_path,\n",
    "    cache_root=cache_dir,\n",
    "    task_type=task_type,\n",
    "    device=device);"
   ]
  },
  {
   "cell_type": "markdown",
   "id": "d39f52b5",
   "metadata": {},
   "source": [
    "### Paste your class_prompt and instance_prompt"
   ]
  },
  {
   "cell_type": "code",
   "execution_count": 5,
   "id": "8d32716d",
   "metadata": {},
   "outputs": [],
   "source": [
    "class_prompt = 'train' # Global object name (train, bear, etc)\n",
    "instance_prompt = 'sapsan' # Unique object name (sapsan, *, etc)"
   ]
  },
  {
   "cell_type": "markdown",
   "id": "e420a466",
   "metadata": {},
   "source": [
    "### Generation with p_sampler"
   ]
  },
  {
   "cell_type": "code",
   "execution_count": 7,
   "id": "0707e5d4",
   "metadata": {
    "scrolled": true
   },
   "outputs": [],
   "source": [
    "prompt = f'''Photo of a {instance_prompt} {class_prompt}. photorealistic'''\n",
    "\n",
    "for _ in range(2):\n",
    "    images = model.generate_text2img(\n",
    "        prompt,\n",
    "        num_steps=50, \n",
    "        batch_size=4, \n",
    "        guidance_scale=7.5,\n",
    "        h=768, \n",
    "        w=768,\n",
    "        sampler='p_sampler', \n",
    "        prior_cf_scale=2,\n",
    "        prior_steps='4',\n",
    "    )\n",
    "\n",
    "    show_images(images, n_rows=2, figsize=(15, 15))"
   ]
  },
  {
   "cell_type": "markdown",
   "id": "cfe1d633",
   "metadata": {},
   "source": [
    "### Generation with ddim_sampler"
   ]
  },
  {
   "cell_type": "code",
   "execution_count": null,
   "id": "e6fae9bd",
   "metadata": {
    "scrolled": true
   },
   "outputs": [],
   "source": [
    "for _ in range(2):\n",
    "    images = model.generate_text2img(\n",
    "        prompt,\n",
    "        num_steps=50, \n",
    "        batch_size=4, \n",
    "        guidance_scale=7.5,\n",
    "        h=768, \n",
    "        w=768,\n",
    "        sampler='ddim_sampler', \n",
    "        prior_cf_scale=4,\n",
    "        prior_steps='ddim25',\n",
    "    )\n",
    "\n",
    "    show_images(images, n_rows=2, figsize=(15, 15))"
   ]
  },
  {
   "cell_type": "code",
   "execution_count": null,
   "id": "3d119521",
   "metadata": {},
   "outputs": [],
   "source": []
  },
  {
   "cell_type": "code",
   "execution_count": null,
   "id": "3b9b075e",
   "metadata": {},
   "outputs": [],
   "source": []
  },
  {
   "cell_type": "code",
   "execution_count": null,
   "id": "ec0c8b10",
   "metadata": {},
   "outputs": [],
   "source": []
  },
  {
   "cell_type": "code",
   "execution_count": null,
   "id": "f0604d0e",
   "metadata": {},
   "outputs": [],
   "source": []
  },
  {
   "cell_type": "code",
   "execution_count": null,
   "id": "55a326f3",
   "metadata": {},
   "outputs": [],
   "source": []
  }
 ],
 "metadata": {
  "kernelspec": {
   "display_name": "Python 3 (ipykernel)",
   "language": "python",
   "name": "python3"
  },
  "language_info": {
   "codemirror_mode": {
    "name": "ipython",
    "version": 3
   },
   "file_extension": ".py",
   "mimetype": "text/x-python",
   "name": "python",
   "nbconvert_exporter": "python",
   "pygments_lexer": "ipython3",
   "version": "3.8.10"
  }
 },
 "nbformat": 4,
 "nbformat_minor": 5
}
