{
 "cells": [
  {
   "cell_type": "code",
   "execution_count": 1,
   "id": "21b55fd6",
   "metadata": {},
   "outputs": [
    {
     "name": "stdout",
     "output_type": "stream",
     "text": [
      "/home/raid_storage/karachev/diffusions/Kandinsky-2\n"
     ]
    }
   ],
   "source": [
    "%cd .."
   ]
  },
  {
   "cell_type": "code",
   "execution_count": 2,
   "id": "5ffb7d5f",
   "metadata": {},
   "outputs": [],
   "source": [
    "import os\n",
    "os.environ['CUDA_VISIBLE_DEVICES'] = '0'\n",
    "from copy import deepcopy\n",
    "\n",
    "import torch\n",
    "import torch.nn as nn\n",
    "from matplotlib import pyplot as plt\n",
    "\n",
    "from kandinsky2 import get_kandinsky2"
   ]
  },
  {
   "cell_type": "markdown",
   "id": "b4e3c611",
   "metadata": {},
   "source": [
    "### Helper functions"
   ]
  },
  {
   "cell_type": "code",
   "execution_count": 3,
   "id": "3670d18b",
   "metadata": {},
   "outputs": [],
   "source": [
    "def show_image(image, figsize=(5, 5), cmap=None, title='', xlabel=None, ylabel=None, axis=False):\n",
    "    plt.figure(figsize=figsize)\n",
    "    plt.imshow(image, cmap=cmap)\n",
    "    plt.title(title)\n",
    "    plt.xlabel(xlabel)\n",
    "    plt.ylabel(ylabel)\n",
    "    plt.axis(axis)\n",
    "    plt.show();\n",
    "\n",
    "def show_images(images, n_rows=1, title='', figsize=(5, 5), cmap=None, xlabel=None, ylabel=None, axis=False):\n",
    "    n_cols = len(images) // n_rows\n",
    "    if n_rows == n_cols == 1:\n",
    "        show_image(images[0], title=title, figsize=figsize, cmap=cmap, xlabel=xlabel, ylabel=ylabel, axis=axis)\n",
    "    else:\n",
    "        fig, axes = plt.subplots(n_rows, n_cols, figsize=figsize)\n",
    "        fig.tight_layout(pad=0.0)\n",
    "        axes = axes.flatten()\n",
    "        for ax, img in zip(axes, images):\n",
    "            ax.imshow(img, cmap=cmap)\n",
    "            ax.set_title(title)\n",
    "            ax.set_xlabel(xlabel)\n",
    "            ax.set_ylabel(ylabel)\n",
    "            ax.axis(axis)\n",
    "        plt.show();\n",
    "        \n",
    "def add_new_embeds(model, placeholder_token, embeds_path):\n",
    "    learned_token = torch.load(embeds_path)\n",
    "\n",
    "    num_added_tokens = model.tokenizer1.add_tokens(placeholder_token)\n",
    "    placeholder_token_id = model.tokenizer1.convert_tokens_to_ids(placeholder_token)\n",
    "\n",
    "    model.text_encoder.model.transformer.resize_token_embeddings(len(model.tokenizer1))\n",
    "    model.text_encoder.model.transformer.get_input_embeddings().weight.data[placeholder_token_id] = learned_token['t1'][placeholder_token]\n",
    "      \n",
    "    t2p_index_to_add = len(model.tokenizer2.encoder)\n",
    "    model.tokenizer2.encoder[placeholder_token] = t2p_index_to_add\n",
    "    model.tokenizer2.decoder[t2p_index_to_add] = placeholder_token\n",
    "    model.tokenizer2.cache[placeholder_token] = placeholder_token\n",
    "\n",
    "    t2p_tok = model.tokenizer2.encode(placeholder_token)\n",
    "    t2p_str = model.tokenizer2.decode(t2p_tok)\n",
    "    \n",
    "    old_vocab_size, t2_embed_dize = model.clip_model.token_embedding.weight.shape\n",
    "\n",
    "    new_embed = nn.Embedding(old_vocab_size + 1, t2_embed_dize).to(device)\n",
    "    new_embed.weight.data[:old_vocab_size, :] = model.clip_model.token_embedding.weight.data.clone()\n",
    "    new_embed.weight.data[t2p_tok[0], :] = learned_token['t2'][placeholder_token]\n",
    "\n",
    "    model.clip_model.token_embedding = deepcopy(new_embed)\n",
    "    \n",
    "    return model"
   ]
  },
  {
   "cell_type": "markdown",
   "id": "647aa03d",
   "metadata": {},
   "source": [
    "### Initialize default Kandinsky 2.1 model (careful with cache dir)"
   ]
  },
  {
   "cell_type": "code",
   "execution_count": 4,
   "id": "05505437",
   "metadata": {},
   "outputs": [
    {
     "name": "stderr",
     "output_type": "stream",
     "text": [
      "/usr/local/lib/python3.8/site-packages/huggingface_hub/file_download.py:629: FutureWarning: `cached_download` is the legacy way to download files from the HF hub, please consider upgrading to `hf_hub_download`\n",
      "  warnings.warn(\n"
     ]
    },
    {
     "name": "stdout",
     "output_type": "stream",
     "text": [
      "making attention of type 'vanilla' with 512 in_channels\n",
      "making attention of type 'vanilla' with 512 in_channels\n",
      "making attention of type 'vanilla' with 512 in_channels\n",
      "Working with z of shape (1, 4, 32, 32) = 4096 dimensions.\n"
     ]
    }
   ],
   "source": [
    "device = 'cuda'\n",
    "task_type = 'text2img'\n",
    "cache_dir = '/tmp/kandinsky2'\n",
    "\n",
    "model = get_kandinsky2(\n",
    "    device=device, \n",
    "    task_type=task_type, \n",
    "    model_version='2.1', \n",
    "    cache_dir=cache_dir, \n",
    "    use_flash_attention=False);"
   ]
  },
  {
   "cell_type": "markdown",
   "id": "d39f52b5",
   "metadata": {},
   "source": [
    "### Paste your token and path to file with embeddings"
   ]
  },
  {
   "cell_type": "code",
   "execution_count": 5,
   "id": "8d32716d",
   "metadata": {},
   "outputs": [],
   "source": [
    "placeholder_token = # your word here\n",
    "embeds_path = # your path to embedding here \n",
    "\n",
    "model = add_new_embeds(model, placeholder_token, embeds_path)"
   ]
  },
  {
   "cell_type": "markdown",
   "id": "e420a466",
   "metadata": {},
   "source": [
    "### Generation with p_sampler"
   ]
  },
  {
   "cell_type": "code",
   "execution_count": 9,
   "id": "0707e5d4",
   "metadata": {
    "scrolled": false
   },
   "outputs": [],
   "source": [
    "prompt = f'''Professional high-quality art of a {placeholder_token}. photorealistic, 4k, HQ'''\n",
    "\n",
    "for _ in range(2):\n",
    "    images = model.generate_text2img(\n",
    "        prompt,\n",
    "        num_steps=50, \n",
    "        batch_size=4, \n",
    "        guidance_scale=7.5,\n",
    "        h=768, \n",
    "        w=768,\n",
    "        sampler='p_sampler', \n",
    "        prior_cf_scale=2,\n",
    "        prior_steps='4',\n",
    "    )\n",
    "\n",
    "    show_images(images, n_rows=2, figsize=(15, 15))"
   ]
  },
  {
   "cell_type": "markdown",
   "id": "cfe1d633",
   "metadata": {},
   "source": [
    "### Generation with ddim_sampler"
   ]
  },
  {
   "cell_type": "code",
   "execution_count": 10,
   "id": "e6fae9bd",
   "metadata": {
    "scrolled": true
   },
   "outputs": [],
   "source": [
    "for _ in range(2):\n",
    "    images = model.generate_text2img(\n",
    "        prompt,\n",
    "        num_steps=50, \n",
    "        batch_size=4, \n",
    "        guidance_scale=7.5,\n",
    "        h=768, \n",
    "        w=768,\n",
    "        sampler='ddim_sampler', \n",
    "        prior_cf_scale=4,\n",
    "        prior_steps='ddim25',\n",
    "    )\n",
    "\n",
    "    show_images(images, n_rows=2, figsize=(15, 15))"
   ]
  },
  {
   "cell_type": "code",
   "execution_count": null,
   "id": "3d119521",
   "metadata": {},
   "outputs": [],
   "source": []
  },
  {
   "cell_type": "code",
   "execution_count": null,
   "id": "3b9b075e",
   "metadata": {},
   "outputs": [],
   "source": []
  },
  {
   "cell_type": "code",
   "execution_count": null,
   "id": "ec0c8b10",
   "metadata": {},
   "outputs": [],
   "source": []
  },
  {
   "cell_type": "code",
   "execution_count": null,
   "id": "f0604d0e",
   "metadata": {},
   "outputs": [],
   "source": []
  },
  {
   "cell_type": "code",
   "execution_count": null,
   "id": "55a326f3",
   "metadata": {},
   "outputs": [],
   "source": []
  }
 ],
 "metadata": {
  "kernelspec": {
   "display_name": "Python 3 (ipykernel)",
   "language": "python",
   "name": "python3"
  },
  "language_info": {
   "codemirror_mode": {
    "name": "ipython",
    "version": 3
   },
   "file_extension": ".py",
   "mimetype": "text/x-python",
   "name": "python",
   "nbconvert_exporter": "python",
   "pygments_lexer": "ipython3",
   "version": "3.8.10"
  }
 },
 "nbformat": 4,
 "nbformat_minor": 5
}
